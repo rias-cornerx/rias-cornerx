{
 "cells": [
  {
   "cell_type": "code",
   "execution_count": 21,
   "id": "c61fb640",
   "metadata": {},
   "outputs": [
    {
     "name": "stdout",
     "output_type": "stream",
     "text": [
      "45 is odd\n"
     ]
    }
   ],
   "source": [
    "def test(x):     #assignment\n",
    "    if  x%2==0:\n",
    "        print(x ,\"is even\")\n",
    "    elif x%2!=0:\n",
    "        print(x ,\"is odd\")\n",
    "    \n",
    "test(45)    \n",
    "    "
   ]
  },
  {
   "cell_type": "code",
   "execution_count": null,
   "id": "c0be56bb",
   "metadata": {},
   "outputs": [],
   "source": [
    "# def test(str3, str4):\n",
    "    for \n",
    "    #assignment\n",
    "    return str3[]+ str4[]\n",
    "\n",
    "test(\"stressed\", \"outed\")"
   ]
  },
  {
   "cell_type": "code",
   "execution_count": 4,
   "id": "aae29cd4",
   "metadata": {},
   "outputs": [
    {
     "data": {
      "text/plain": [
       "('Erere', 'Adarerhi')"
      ]
     },
     "execution_count": 4,
     "metadata": {},
     "output_type": "execute_result"
    }
   ],
   "source": [
    "def test(str1,str2):      # my assignment\n",
    "    \n",
    "    return str2,str1\n",
    "\n",
    "\n",
    "test(\"Adarerhi\", \"Erere\")\n",
    "\n"
   ]
  },
  {
   "cell_type": "code",
   "execution_count": 5,
   "id": "d5090ca0",
   "metadata": {},
   "outputs": [
    {
     "data": {
      "text/plain": [
       "3628800"
      ]
     },
     "execution_count": 5,
     "metadata": {},
     "output_type": "execute_result"
    }
   ],
   "source": [
    "from math import factorial\n",
    "   \n",
    "factorial(10)\n",
    "#assignment question\n",
    "\n",
    "\n"
   ]
  },
  {
   "cell_type": "code",
   "execution_count": 6,
   "id": "b2e77097",
   "metadata": {},
   "outputs": [
    {
     "name": "stdout",
     "output_type": "stream",
     "text": [
      "90.0\n"
     ]
    }
   ],
   "source": [
    "x=300 #assignment question\n",
    "\n",
    "if x>500:\n",
    "     print(x*(50/100))\n",
    "\n",
    "elif 200<=x<500:\n",
    "     print(x*(30/100))\n",
    "\n",
    "elif x<200:\n",
    "     print(x*(10/100))"
   ]
  },
  {
   "cell_type": "code",
   "execution_count": null,
   "id": "7d69f5dc",
   "metadata": {},
   "outputs": [],
   "source": [
    "n=int(4)\n",
    "    \n",
    "hmm=str(n)\n",
    "    \n",
    "t1=hmm + hmm\n",
    "    \n",
    "t2=hmm + hmm + hmm\n",
    "\n",
    "comp= n + int(t1) + int(t2)\n",
    "\n",
    "print(\"the value is\",comp)\n",
    "\n"
   ]
  },
  {
   "cell_type": "code",
   "execution_count": null,
   "id": "871231d9",
   "metadata": {
    "scrolled": true
   },
   "outputs": [],
   "source": [
    "for i in range(2000,3200):\n",
    "     if i%7==0, i%5!=0:\n",
    "            print(i)\n",
    "        \n",
    "    \n",
    "    \n",
    "     "
   ]
  },
  {
   "cell_type": "code",
   "execution_count": null,
   "id": "25edae5f",
   "metadata": {},
   "outputs": [],
   "source": []
  }
 ],
 "metadata": {
  "kernelspec": {
   "display_name": "Python 3 (ipykernel)",
   "language": "python",
   "name": "python3"
  },
  "language_info": {
   "codemirror_mode": {
    "name": "ipython",
    "version": 3
   },
   "file_extension": ".py",
   "mimetype": "text/x-python",
   "name": "python",
   "nbconvert_exporter": "python",
   "pygments_lexer": "ipython3",
   "version": "3.9.7"
  }
 },
 "nbformat": 4,
 "nbformat_minor": 5
}
